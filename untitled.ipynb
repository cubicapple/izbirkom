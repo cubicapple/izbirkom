{
  "cells": [
    {
      "cell_type": "code",
      "source": [
        "import pycurl\n",
        "import io\n",
        "import re\n",
        "from html.parser import HTMLParser"
      ],
      "outputs": [],
      "execution_count": 9,
      "metadata": {
        "collapsed": true,
        "jupyter": {
          "source_hidden": false,
          "outputs_hidden": false
        },
        "nteract": {
          "transient": {
            "deleting": false
          }
        },
        "execution": {
          "shell.execute_reply": "2020-10-14T21:05:22.469Z",
          "iopub.status.busy": "2020-10-14T21:05:22.438Z",
          "iopub.execute_input": "2020-10-14T21:05:22.444Z",
          "iopub.status.idle": "2020-10-14T21:05:22.453Z"
        }
      }
    },
    {
      "cell_type": "code",
      "source": [
        "class URLReader():\n",
        "\tdef __init__(self):\n",
        "\t\tself.stream = io.BytesIO()\n",
        "\n",
        "\tdef read(self, url, cookies='cookies.txt'):\n",
        "\t\tc = pycurl.Curl()\n",
        "\t\tc.setopt(pycurl.COOKIEFILE, cookies)\n",
        "\t\tc.setopt(c.URL, url)\n",
        "\t\tc.setopt(c.WRITEDATA, self.stream)\n",
        "\t\tc.perform()\n",
        "\t\tc.close()\n",
        "\t\treturn self\n",
        "\n",
        "\tdef getbuffer(self):\n",
        "\t\treturn self.stream.getbuffer()\n",
        "\n",
        "\tdef decode(self, encoding='UTF-8'):\n",
        "\t\treturn self.stream.getvalue().decode( encoding)"
      ],
      "outputs": [],
      "execution_count": 10,
      "metadata": {
        "collapsed": true,
        "jupyter": {
          "source_hidden": false,
          "outputs_hidden": false
        },
        "nteract": {
          "transient": {
            "deleting": false
          }
        },
        "execution": {
          "iopub.status.busy": "2020-10-14T21:05:22.996Z",
          "iopub.execute_input": "2020-10-14T21:05:23.005Z",
          "iopub.status.idle": "2020-10-14T21:05:23.017Z",
          "shell.execute_reply": "2020-10-14T21:05:23.023Z"
        }
      }
    },
    {
      "cell_type": "code",
      "source": [
        "url = r'http://www.vybory.izbirkom.ru/region/izbirkom?action=show&root_a=1000001&vrn=100100163596966&region=0&global=true&type=0&prver=0&pronetvd=null'\n",
        "html = URLReader().read(url).decode( 'cp1251')"
      ],
      "outputs": [],
      "execution_count": 15,
      "metadata": {
        "collapsed": true,
        "jupyter": {
          "source_hidden": false,
          "outputs_hidden": false
        },
        "nteract": {
          "transient": {
            "deleting": false
          }
        },
        "execution": {
          "iopub.status.busy": "2020-10-14T21:06:35.138Z",
          "iopub.execute_input": "2020-10-14T21:06:35.153Z",
          "iopub.status.idle": "2020-10-14T21:06:35.400Z",
          "shell.execute_reply": "2020-10-14T21:06:35.407Z"
        }
      }
    },
    {
      "cell_type": "code",
      "source": [
        "regexp = r'<option value=\"(http://www\\.vybory\\.izbirkom\\.ru/region/izbirkom[^-\\s]*)\">\\s*([^-<]*)\\s*</option>'\n",
        "x = re.findall( regexp, html)"
      ],
      "outputs": [],
      "execution_count": 30,
      "metadata": {
        "collapsed": true,
        "jupyter": {
          "source_hidden": false,
          "outputs_hidden": false
        },
        "nteract": {
          "transient": {
            "deleting": false
          }
        },
        "execution": {
          "iopub.status.busy": "2020-10-14T21:26:56.229Z",
          "iopub.execute_input": "2020-10-14T21:26:56.233Z",
          "iopub.status.idle": "2020-10-14T21:26:56.245Z",
          "shell.execute_reply": "2020-10-14T21:26:56.252Z"
        }
      }
    },
    {
      "cell_type": "code",
      "source": [
        "x[1]"
      ],
      "outputs": [
        {
          "output_type": "execute_result",
          "execution_count": 39,
          "data": {
            "text/plain": "('http://www.vybory.izbirkom.ru/region/izbirkom?action=show&amp;global=true&amp;root=1000002&amp;tvd=100100163596971&amp;vrn=100100163596966&amp;prver=0&amp;pronetvd=null&amp;region=0&amp;sub_region=0&amp;type=0&amp;vibid=100100163596971',\n 'Республика Алтай')"
          },
          "metadata": {}
        }
      ],
      "execution_count": 39,
      "metadata": {
        "collapsed": true,
        "jupyter": {
          "source_hidden": false,
          "outputs_hidden": false
        },
        "nteract": {
          "transient": {
            "deleting": false
          }
        },
        "execution": {
          "iopub.status.busy": "2020-10-14T21:31:13.765Z",
          "iopub.execute_input": "2020-10-14T21:31:13.772Z",
          "iopub.status.idle": "2020-10-14T21:31:13.785Z",
          "shell.execute_reply": "2020-10-14T21:31:13.793Z"
        }
      }
    },
    {
      "cell_type": "code",
      "source": [],
      "outputs": [],
      "execution_count": null,
      "metadata": {
        "collapsed": true,
        "jupyter": {
          "source_hidden": false,
          "outputs_hidden": false
        },
        "nteract": {
          "transient": {
            "deleting": false
          }
        }
      }
    }
  ],
  "metadata": {
    "kernel_info": {
      "name": "python3"
    },
    "language_info": {
      "name": "python",
      "version": "3.7.4",
      "mimetype": "text/x-python",
      "codemirror_mode": {
        "name": "ipython",
        "version": 3
      },
      "pygments_lexer": "ipython3",
      "nbconvert_exporter": "python",
      "file_extension": ".py"
    },
    "kernelspec": {
      "argv": [
        "C:\\ProgramData\\Anaconda3\\python.exe",
        "-m",
        "ipykernel_launcher",
        "-f",
        "{connection_file}"
      ],
      "display_name": "Python 3",
      "language": "python",
      "name": "python3"
    },
    "nteract": {
      "version": "0.25.0"
    }
  },
  "nbformat": 4,
  "nbformat_minor": 0
}